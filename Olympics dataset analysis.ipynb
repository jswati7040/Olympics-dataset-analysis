{
 "cells": [
  {
   "cell_type": "code",
   "execution_count": 2,
   "id": "c553befa",
   "metadata": {
    "ExecuteTime": {
     "end_time": "2024-02-29T09:47:21.760122Z",
     "start_time": "2024-02-29T09:47:19.033589Z"
    }
   },
   "outputs": [],
   "source": [
    "import numpy as np\n",
    "import pandas as pd \n",
    "import matplotlib.pyplot as plt\n",
    "import seaborn as sns\n",
    "%matplotlib inline"
   ]
  },
  {
   "cell_type": "markdown",
   "id": "25bddf64",
   "metadata": {},
   "source": [
    "# Load dataset"
   ]
  },
  {
   "cell_type": "code",
   "execution_count": 3,
   "id": "678e1b46",
   "metadata": {
    "ExecuteTime": {
     "end_time": "2024-02-29T09:47:22.367434Z",
     "start_time": "2024-02-29T09:47:21.760122Z"
    }
   },
   "outputs": [],
   "source": [
    "\n",
    "df1 = pd.read_csv(\"C:/Users/jswat/OneDrive/Desktop/SWATI/Data analytics material/Python/athlete_events.csv\")"
   ]
  },
  {
   "cell_type": "code",
   "execution_count": 4,
   "id": "a2352a93",
   "metadata": {
    "ExecuteTime": {
     "end_time": "2024-02-29T09:47:22.443424Z",
     "start_time": "2024-02-29T09:47:22.367434Z"
    }
   },
   "outputs": [],
   "source": [
    "df2 = pd.read_csv(\"C:/Users/jswat/OneDrive/Desktop/SWATI/Data analytics material/Python/noc_regions.csv\")"
   ]
  },
  {
   "cell_type": "markdown",
   "id": "561219bc",
   "metadata": {},
   "source": [
    "# Explore the data"
   ]
  },
  {
   "cell_type": "code",
   "execution_count": 5,
   "id": "e54e69fb",
   "metadata": {
    "ExecuteTime": {
     "end_time": "2024-02-29T09:47:22.482498Z",
     "start_time": "2024-02-29T09:47:22.444563Z"
    }
   },
   "outputs": [
    {
     "data": {
      "text/html": [
       "<div>\n",
       "<style scoped>\n",
       "    .dataframe tbody tr th:only-of-type {\n",
       "        vertical-align: middle;\n",
       "    }\n",
       "\n",
       "    .dataframe tbody tr th {\n",
       "        vertical-align: top;\n",
       "    }\n",
       "\n",
       "    .dataframe thead th {\n",
       "        text-align: right;\n",
       "    }\n",
       "</style>\n",
       "<table border=\"1\" class=\"dataframe\">\n",
       "  <thead>\n",
       "    <tr style=\"text-align: right;\">\n",
       "      <th></th>\n",
       "      <th>ID</th>\n",
       "      <th>Name</th>\n",
       "      <th>Sex</th>\n",
       "      <th>Age</th>\n",
       "      <th>Height</th>\n",
       "      <th>Weight</th>\n",
       "      <th>Team</th>\n",
       "      <th>NOC</th>\n",
       "      <th>Games</th>\n",
       "      <th>Year</th>\n",
       "      <th>Season</th>\n",
       "      <th>City</th>\n",
       "      <th>Sport</th>\n",
       "      <th>Event</th>\n",
       "      <th>Medal</th>\n",
       "    </tr>\n",
       "  </thead>\n",
       "  <tbody>\n",
       "    <tr>\n",
       "      <th>0</th>\n",
       "      <td>1</td>\n",
       "      <td>A Dijiang</td>\n",
       "      <td>M</td>\n",
       "      <td>24.0</td>\n",
       "      <td>180.0</td>\n",
       "      <td>80.0</td>\n",
       "      <td>China</td>\n",
       "      <td>CHN</td>\n",
       "      <td>1992 Summer</td>\n",
       "      <td>1992</td>\n",
       "      <td>Summer</td>\n",
       "      <td>Barcelona</td>\n",
       "      <td>Basketball</td>\n",
       "      <td>Basketball Men's Basketball</td>\n",
       "      <td>NaN</td>\n",
       "    </tr>\n",
       "    <tr>\n",
       "      <th>1</th>\n",
       "      <td>2</td>\n",
       "      <td>A Lamusi</td>\n",
       "      <td>M</td>\n",
       "      <td>23.0</td>\n",
       "      <td>170.0</td>\n",
       "      <td>60.0</td>\n",
       "      <td>China</td>\n",
       "      <td>CHN</td>\n",
       "      <td>2012 Summer</td>\n",
       "      <td>2012</td>\n",
       "      <td>Summer</td>\n",
       "      <td>London</td>\n",
       "      <td>Judo</td>\n",
       "      <td>Judo Men's Extra-Lightweight</td>\n",
       "      <td>NaN</td>\n",
       "    </tr>\n",
       "    <tr>\n",
       "      <th>2</th>\n",
       "      <td>3</td>\n",
       "      <td>Gunnar Nielsen Aaby</td>\n",
       "      <td>M</td>\n",
       "      <td>24.0</td>\n",
       "      <td>NaN</td>\n",
       "      <td>NaN</td>\n",
       "      <td>Denmark</td>\n",
       "      <td>DEN</td>\n",
       "      <td>1920 Summer</td>\n",
       "      <td>1920</td>\n",
       "      <td>Summer</td>\n",
       "      <td>Antwerpen</td>\n",
       "      <td>Football</td>\n",
       "      <td>Football Men's Football</td>\n",
       "      <td>NaN</td>\n",
       "    </tr>\n",
       "    <tr>\n",
       "      <th>3</th>\n",
       "      <td>4</td>\n",
       "      <td>Edgar Lindenau Aabye</td>\n",
       "      <td>M</td>\n",
       "      <td>34.0</td>\n",
       "      <td>NaN</td>\n",
       "      <td>NaN</td>\n",
       "      <td>Denmark/Sweden</td>\n",
       "      <td>DEN</td>\n",
       "      <td>1900 Summer</td>\n",
       "      <td>1900</td>\n",
       "      <td>Summer</td>\n",
       "      <td>Paris</td>\n",
       "      <td>Tug-Of-War</td>\n",
       "      <td>Tug-Of-War Men's Tug-Of-War</td>\n",
       "      <td>Gold</td>\n",
       "    </tr>\n",
       "    <tr>\n",
       "      <th>4</th>\n",
       "      <td>5</td>\n",
       "      <td>Christine Jacoba Aaftink</td>\n",
       "      <td>F</td>\n",
       "      <td>21.0</td>\n",
       "      <td>185.0</td>\n",
       "      <td>82.0</td>\n",
       "      <td>Netherlands</td>\n",
       "      <td>NED</td>\n",
       "      <td>1988 Winter</td>\n",
       "      <td>1988</td>\n",
       "      <td>Winter</td>\n",
       "      <td>Calgary</td>\n",
       "      <td>Speed Skating</td>\n",
       "      <td>Speed Skating Women's 500 metres</td>\n",
       "      <td>NaN</td>\n",
       "    </tr>\n",
       "  </tbody>\n",
       "</table>\n",
       "</div>"
      ],
      "text/plain": [
       "   ID                      Name Sex   Age  Height  Weight            Team  \\\n",
       "0   1                 A Dijiang   M  24.0   180.0    80.0           China   \n",
       "1   2                  A Lamusi   M  23.0   170.0    60.0           China   \n",
       "2   3       Gunnar Nielsen Aaby   M  24.0     NaN     NaN         Denmark   \n",
       "3   4      Edgar Lindenau Aabye   M  34.0     NaN     NaN  Denmark/Sweden   \n",
       "4   5  Christine Jacoba Aaftink   F  21.0   185.0    82.0     Netherlands   \n",
       "\n",
       "   NOC        Games  Year  Season       City          Sport  \\\n",
       "0  CHN  1992 Summer  1992  Summer  Barcelona     Basketball   \n",
       "1  CHN  2012 Summer  2012  Summer     London           Judo   \n",
       "2  DEN  1920 Summer  1920  Summer  Antwerpen       Football   \n",
       "3  DEN  1900 Summer  1900  Summer      Paris     Tug-Of-War   \n",
       "4  NED  1988 Winter  1988  Winter    Calgary  Speed Skating   \n",
       "\n",
       "                              Event Medal  \n",
       "0       Basketball Men's Basketball   NaN  \n",
       "1      Judo Men's Extra-Lightweight   NaN  \n",
       "2           Football Men's Football   NaN  \n",
       "3       Tug-Of-War Men's Tug-Of-War  Gold  \n",
       "4  Speed Skating Women's 500 metres   NaN  "
      ]
     },
     "execution_count": 5,
     "metadata": {},
     "output_type": "execute_result"
    }
   ],
   "source": [
    "\n",
    "df1.head()"
   ]
  },
  {
   "cell_type": "code",
   "execution_count": 6,
   "id": "77a450f6",
   "metadata": {
    "ExecuteTime": {
     "end_time": "2024-02-29T09:47:22.501830Z",
     "start_time": "2024-02-29T09:47:22.484608Z"
    }
   },
   "outputs": [
    {
     "data": {
      "text/html": [
       "<div>\n",
       "<style scoped>\n",
       "    .dataframe tbody tr th:only-of-type {\n",
       "        vertical-align: middle;\n",
       "    }\n",
       "\n",
       "    .dataframe tbody tr th {\n",
       "        vertical-align: top;\n",
       "    }\n",
       "\n",
       "    .dataframe thead th {\n",
       "        text-align: right;\n",
       "    }\n",
       "</style>\n",
       "<table border=\"1\" class=\"dataframe\">\n",
       "  <thead>\n",
       "    <tr style=\"text-align: right;\">\n",
       "      <th></th>\n",
       "      <th>NOC</th>\n",
       "      <th>region</th>\n",
       "      <th>notes</th>\n",
       "    </tr>\n",
       "  </thead>\n",
       "  <tbody>\n",
       "    <tr>\n",
       "      <th>0</th>\n",
       "      <td>AFG</td>\n",
       "      <td>Afghanistan</td>\n",
       "      <td>NaN</td>\n",
       "    </tr>\n",
       "    <tr>\n",
       "      <th>1</th>\n",
       "      <td>AHO</td>\n",
       "      <td>Curacao</td>\n",
       "      <td>Netherlands Antilles</td>\n",
       "    </tr>\n",
       "    <tr>\n",
       "      <th>2</th>\n",
       "      <td>ALB</td>\n",
       "      <td>Albania</td>\n",
       "      <td>NaN</td>\n",
       "    </tr>\n",
       "    <tr>\n",
       "      <th>3</th>\n",
       "      <td>ALG</td>\n",
       "      <td>Algeria</td>\n",
       "      <td>NaN</td>\n",
       "    </tr>\n",
       "    <tr>\n",
       "      <th>4</th>\n",
       "      <td>AND</td>\n",
       "      <td>Andorra</td>\n",
       "      <td>NaN</td>\n",
       "    </tr>\n",
       "  </tbody>\n",
       "</table>\n",
       "</div>"
      ],
      "text/plain": [
       "   NOC       region                 notes\n",
       "0  AFG  Afghanistan                   NaN\n",
       "1  AHO      Curacao  Netherlands Antilles\n",
       "2  ALB      Albania                   NaN\n",
       "3  ALG      Algeria                   NaN\n",
       "4  AND      Andorra                   NaN"
      ]
     },
     "execution_count": 6,
     "metadata": {},
     "output_type": "execute_result"
    }
   ],
   "source": [
    "df2.head()"
   ]
  },
  {
   "cell_type": "code",
   "execution_count": 7,
   "id": "0e664da4",
   "metadata": {
    "ExecuteTime": {
     "end_time": "2024-02-29T09:47:22.610988Z",
     "start_time": "2024-02-29T09:47:22.504300Z"
    }
   },
   "outputs": [],
   "source": [
    "# Merging two tables\n",
    "df=df1.merge(df2,how=\"left\",on=\"NOC\")"
   ]
  },
  {
   "cell_type": "code",
   "execution_count": 8,
   "id": "483a122d",
   "metadata": {
    "ExecuteTime": {
     "end_time": "2024-02-29T09:47:22.628469Z",
     "start_time": "2024-02-29T09:47:22.612508Z"
    }
   },
   "outputs": [
    {
     "data": {
      "text/html": [
       "<div>\n",
       "<style scoped>\n",
       "    .dataframe tbody tr th:only-of-type {\n",
       "        vertical-align: middle;\n",
       "    }\n",
       "\n",
       "    .dataframe tbody tr th {\n",
       "        vertical-align: top;\n",
       "    }\n",
       "\n",
       "    .dataframe thead th {\n",
       "        text-align: right;\n",
       "    }\n",
       "</style>\n",
       "<table border=\"1\" class=\"dataframe\">\n",
       "  <thead>\n",
       "    <tr style=\"text-align: right;\">\n",
       "      <th></th>\n",
       "      <th>ID</th>\n",
       "      <th>Name</th>\n",
       "      <th>Sex</th>\n",
       "      <th>Age</th>\n",
       "      <th>Height</th>\n",
       "      <th>Weight</th>\n",
       "      <th>Team</th>\n",
       "      <th>NOC</th>\n",
       "      <th>Games</th>\n",
       "      <th>Year</th>\n",
       "      <th>Season</th>\n",
       "      <th>City</th>\n",
       "      <th>Sport</th>\n",
       "      <th>Event</th>\n",
       "      <th>Medal</th>\n",
       "      <th>region</th>\n",
       "      <th>notes</th>\n",
       "    </tr>\n",
       "  </thead>\n",
       "  <tbody>\n",
       "    <tr>\n",
       "      <th>0</th>\n",
       "      <td>1</td>\n",
       "      <td>A Dijiang</td>\n",
       "      <td>M</td>\n",
       "      <td>24.0</td>\n",
       "      <td>180.0</td>\n",
       "      <td>80.0</td>\n",
       "      <td>China</td>\n",
       "      <td>CHN</td>\n",
       "      <td>1992 Summer</td>\n",
       "      <td>1992</td>\n",
       "      <td>Summer</td>\n",
       "      <td>Barcelona</td>\n",
       "      <td>Basketball</td>\n",
       "      <td>Basketball Men's Basketball</td>\n",
       "      <td>NaN</td>\n",
       "      <td>China</td>\n",
       "      <td>NaN</td>\n",
       "    </tr>\n",
       "    <tr>\n",
       "      <th>1</th>\n",
       "      <td>2</td>\n",
       "      <td>A Lamusi</td>\n",
       "      <td>M</td>\n",
       "      <td>23.0</td>\n",
       "      <td>170.0</td>\n",
       "      <td>60.0</td>\n",
       "      <td>China</td>\n",
       "      <td>CHN</td>\n",
       "      <td>2012 Summer</td>\n",
       "      <td>2012</td>\n",
       "      <td>Summer</td>\n",
       "      <td>London</td>\n",
       "      <td>Judo</td>\n",
       "      <td>Judo Men's Extra-Lightweight</td>\n",
       "      <td>NaN</td>\n",
       "      <td>China</td>\n",
       "      <td>NaN</td>\n",
       "    </tr>\n",
       "    <tr>\n",
       "      <th>2</th>\n",
       "      <td>3</td>\n",
       "      <td>Gunnar Nielsen Aaby</td>\n",
       "      <td>M</td>\n",
       "      <td>24.0</td>\n",
       "      <td>NaN</td>\n",
       "      <td>NaN</td>\n",
       "      <td>Denmark</td>\n",
       "      <td>DEN</td>\n",
       "      <td>1920 Summer</td>\n",
       "      <td>1920</td>\n",
       "      <td>Summer</td>\n",
       "      <td>Antwerpen</td>\n",
       "      <td>Football</td>\n",
       "      <td>Football Men's Football</td>\n",
       "      <td>NaN</td>\n",
       "      <td>Denmark</td>\n",
       "      <td>NaN</td>\n",
       "    </tr>\n",
       "    <tr>\n",
       "      <th>3</th>\n",
       "      <td>4</td>\n",
       "      <td>Edgar Lindenau Aabye</td>\n",
       "      <td>M</td>\n",
       "      <td>34.0</td>\n",
       "      <td>NaN</td>\n",
       "      <td>NaN</td>\n",
       "      <td>Denmark/Sweden</td>\n",
       "      <td>DEN</td>\n",
       "      <td>1900 Summer</td>\n",
       "      <td>1900</td>\n",
       "      <td>Summer</td>\n",
       "      <td>Paris</td>\n",
       "      <td>Tug-Of-War</td>\n",
       "      <td>Tug-Of-War Men's Tug-Of-War</td>\n",
       "      <td>Gold</td>\n",
       "      <td>Denmark</td>\n",
       "      <td>NaN</td>\n",
       "    </tr>\n",
       "    <tr>\n",
       "      <th>4</th>\n",
       "      <td>5</td>\n",
       "      <td>Christine Jacoba Aaftink</td>\n",
       "      <td>F</td>\n",
       "      <td>21.0</td>\n",
       "      <td>185.0</td>\n",
       "      <td>82.0</td>\n",
       "      <td>Netherlands</td>\n",
       "      <td>NED</td>\n",
       "      <td>1988 Winter</td>\n",
       "      <td>1988</td>\n",
       "      <td>Winter</td>\n",
       "      <td>Calgary</td>\n",
       "      <td>Speed Skating</td>\n",
       "      <td>Speed Skating Women's 500 metres</td>\n",
       "      <td>NaN</td>\n",
       "      <td>Netherlands</td>\n",
       "      <td>NaN</td>\n",
       "    </tr>\n",
       "  </tbody>\n",
       "</table>\n",
       "</div>"
      ],
      "text/plain": [
       "   ID                      Name Sex   Age  Height  Weight            Team  \\\n",
       "0   1                 A Dijiang   M  24.0   180.0    80.0           China   \n",
       "1   2                  A Lamusi   M  23.0   170.0    60.0           China   \n",
       "2   3       Gunnar Nielsen Aaby   M  24.0     NaN     NaN         Denmark   \n",
       "3   4      Edgar Lindenau Aabye   M  34.0     NaN     NaN  Denmark/Sweden   \n",
       "4   5  Christine Jacoba Aaftink   F  21.0   185.0    82.0     Netherlands   \n",
       "\n",
       "   NOC        Games  Year  Season       City          Sport  \\\n",
       "0  CHN  1992 Summer  1992  Summer  Barcelona     Basketball   \n",
       "1  CHN  2012 Summer  2012  Summer     London           Judo   \n",
       "2  DEN  1920 Summer  1920  Summer  Antwerpen       Football   \n",
       "3  DEN  1900 Summer  1900  Summer      Paris     Tug-Of-War   \n",
       "4  NED  1988 Winter  1988  Winter    Calgary  Speed Skating   \n",
       "\n",
       "                              Event Medal       region notes  \n",
       "0       Basketball Men's Basketball   NaN        China   NaN  \n",
       "1      Judo Men's Extra-Lightweight   NaN        China   NaN  \n",
       "2           Football Men's Football   NaN      Denmark   NaN  \n",
       "3       Tug-Of-War Men's Tug-Of-War  Gold      Denmark   NaN  \n",
       "4  Speed Skating Women's 500 metres   NaN  Netherlands   NaN  "
      ]
     },
     "execution_count": 8,
     "metadata": {},
     "output_type": "execute_result"
    }
   ],
   "source": [
    "df.head()"
   ]
  },
  {
   "cell_type": "code",
   "execution_count": 9,
   "id": "7e625d16",
   "metadata": {
    "ExecuteTime": {
     "end_time": "2024-02-29T09:47:23.043372Z",
     "start_time": "2024-02-29T09:47:22.630929Z"
    }
   },
   "outputs": [
    {
     "name": "stdout",
     "output_type": "stream",
     "text": [
      "<class 'pandas.core.frame.DataFrame'>\n",
      "Int64Index: 271116 entries, 0 to 271115\n",
      "Data columns (total 17 columns):\n",
      " #   Column  Non-Null Count   Dtype  \n",
      "---  ------  --------------   -----  \n",
      " 0   ID      271116 non-null  int64  \n",
      " 1   Name    271116 non-null  object \n",
      " 2   Sex     271116 non-null  object \n",
      " 3   Age     261642 non-null  float64\n",
      " 4   Height  210945 non-null  float64\n",
      " 5   Weight  208241 non-null  float64\n",
      " 6   Team    271116 non-null  object \n",
      " 7   NOC     271116 non-null  object \n",
      " 8   Games   271116 non-null  object \n",
      " 9   Year    271116 non-null  int64  \n",
      " 10  Season  271116 non-null  object \n",
      " 11  City    271116 non-null  object \n",
      " 12  Sport   271116 non-null  object \n",
      " 13  Event   271116 non-null  object \n",
      " 14  Medal   39783 non-null   object \n",
      " 15  region  270746 non-null  object \n",
      " 16  notes   5039 non-null    object \n",
      "dtypes: float64(3), int64(2), object(12)\n",
      "memory usage: 37.2+ MB\n"
     ]
    }
   ],
   "source": [
    "df.info()"
   ]
  },
  {
   "cell_type": "code",
   "execution_count": 10,
   "id": "3a2bf432",
   "metadata": {
    "ExecuteTime": {
     "end_time": "2024-02-29T09:47:23.051614Z",
     "start_time": "2024-02-29T09:47:23.045610Z"
    }
   },
   "outputs": [
    {
     "data": {
      "text/plain": [
       "(271116, 17)"
      ]
     },
     "execution_count": 10,
     "metadata": {},
     "output_type": "execute_result"
    }
   ],
   "source": [
    "df.shape"
   ]
  },
  {
   "cell_type": "code",
   "execution_count": 11,
   "id": "f79f9d29",
   "metadata": {
    "ExecuteTime": {
     "end_time": "2024-02-29T09:47:23.127283Z",
     "start_time": "2024-02-29T09:47:23.052326Z"
    }
   },
   "outputs": [
    {
     "data": {
      "text/html": [
       "<div>\n",
       "<style scoped>\n",
       "    .dataframe tbody tr th:only-of-type {\n",
       "        vertical-align: middle;\n",
       "    }\n",
       "\n",
       "    .dataframe tbody tr th {\n",
       "        vertical-align: top;\n",
       "    }\n",
       "\n",
       "    .dataframe thead th {\n",
       "        text-align: right;\n",
       "    }\n",
       "</style>\n",
       "<table border=\"1\" class=\"dataframe\">\n",
       "  <thead>\n",
       "    <tr style=\"text-align: right;\">\n",
       "      <th></th>\n",
       "      <th>ID</th>\n",
       "      <th>Age</th>\n",
       "      <th>Height</th>\n",
       "      <th>Weight</th>\n",
       "      <th>Year</th>\n",
       "    </tr>\n",
       "  </thead>\n",
       "  <tbody>\n",
       "    <tr>\n",
       "      <th>count</th>\n",
       "      <td>271116.000000</td>\n",
       "      <td>261642.000000</td>\n",
       "      <td>210945.000000</td>\n",
       "      <td>208241.000000</td>\n",
       "      <td>271116.000000</td>\n",
       "    </tr>\n",
       "    <tr>\n",
       "      <th>mean</th>\n",
       "      <td>68248.954396</td>\n",
       "      <td>25.556898</td>\n",
       "      <td>175.338970</td>\n",
       "      <td>70.702393</td>\n",
       "      <td>1978.378480</td>\n",
       "    </tr>\n",
       "    <tr>\n",
       "      <th>std</th>\n",
       "      <td>39022.286345</td>\n",
       "      <td>6.393561</td>\n",
       "      <td>10.518462</td>\n",
       "      <td>14.348020</td>\n",
       "      <td>29.877632</td>\n",
       "    </tr>\n",
       "    <tr>\n",
       "      <th>min</th>\n",
       "      <td>1.000000</td>\n",
       "      <td>10.000000</td>\n",
       "      <td>127.000000</td>\n",
       "      <td>25.000000</td>\n",
       "      <td>1896.000000</td>\n",
       "    </tr>\n",
       "    <tr>\n",
       "      <th>25%</th>\n",
       "      <td>34643.000000</td>\n",
       "      <td>21.000000</td>\n",
       "      <td>168.000000</td>\n",
       "      <td>60.000000</td>\n",
       "      <td>1960.000000</td>\n",
       "    </tr>\n",
       "    <tr>\n",
       "      <th>50%</th>\n",
       "      <td>68205.000000</td>\n",
       "      <td>24.000000</td>\n",
       "      <td>175.000000</td>\n",
       "      <td>70.000000</td>\n",
       "      <td>1988.000000</td>\n",
       "    </tr>\n",
       "    <tr>\n",
       "      <th>75%</th>\n",
       "      <td>102097.250000</td>\n",
       "      <td>28.000000</td>\n",
       "      <td>183.000000</td>\n",
       "      <td>79.000000</td>\n",
       "      <td>2002.000000</td>\n",
       "    </tr>\n",
       "    <tr>\n",
       "      <th>max</th>\n",
       "      <td>135571.000000</td>\n",
       "      <td>97.000000</td>\n",
       "      <td>226.000000</td>\n",
       "      <td>214.000000</td>\n",
       "      <td>2016.000000</td>\n",
       "    </tr>\n",
       "  </tbody>\n",
       "</table>\n",
       "</div>"
      ],
      "text/plain": [
       "                  ID            Age         Height         Weight  \\\n",
       "count  271116.000000  261642.000000  210945.000000  208241.000000   \n",
       "mean    68248.954396      25.556898     175.338970      70.702393   \n",
       "std     39022.286345       6.393561      10.518462      14.348020   \n",
       "min         1.000000      10.000000     127.000000      25.000000   \n",
       "25%     34643.000000      21.000000     168.000000      60.000000   \n",
       "50%     68205.000000      24.000000     175.000000      70.000000   \n",
       "75%    102097.250000      28.000000     183.000000      79.000000   \n",
       "max    135571.000000      97.000000     226.000000     214.000000   \n",
       "\n",
       "                Year  \n",
       "count  271116.000000  \n",
       "mean     1978.378480  \n",
       "std        29.877632  \n",
       "min      1896.000000  \n",
       "25%      1960.000000  \n",
       "50%      1988.000000  \n",
       "75%      2002.000000  \n",
       "max      2016.000000  "
      ]
     },
     "execution_count": 11,
     "metadata": {},
     "output_type": "execute_result"
    }
   ],
   "source": [
    "df.describe()"
   ]
  },
  {
   "cell_type": "markdown",
   "id": "2a666da2",
   "metadata": {},
   "source": [
    "# DATA CLEANING"
   ]
  },
  {
   "cell_type": "code",
   "execution_count": 12,
   "id": "6d72330a",
   "metadata": {
    "ExecuteTime": {
     "end_time": "2024-02-29T09:47:23.595383Z",
     "start_time": "2024-02-29T09:47:23.128846Z"
    }
   },
   "outputs": [
    {
     "data": {
      "text/plain": [
       "ID             0\n",
       "Name           0\n",
       "Sex            0\n",
       "Age         9474\n",
       "Height     60171\n",
       "Weight     62875\n",
       "Team           0\n",
       "NOC            0\n",
       "Games          0\n",
       "Year           0\n",
       "Season         0\n",
       "City           0\n",
       "Sport          0\n",
       "Event          0\n",
       "Medal     231333\n",
       "region       370\n",
       "notes     266077\n",
       "dtype: int64"
      ]
     },
     "execution_count": 12,
     "metadata": {},
     "output_type": "execute_result"
    }
   ],
   "source": [
    "#Check for null values\n",
    "df.isna().sum()"
   ]
  },
  {
   "cell_type": "code",
   "execution_count": 13,
   "id": "cd5d4c6c",
   "metadata": {
    "ExecuteTime": {
     "end_time": "2024-02-29T09:47:23.711006Z",
     "start_time": "2024-02-29T09:47:23.596613Z"
    }
   },
   "outputs": [],
   "source": [
    "#dropping the notes feature as it has a lot of null values\n",
    "df.drop( 'notes' , axis=1 , inplace= True )"
   ]
  },
  {
   "cell_type": "code",
   "execution_count": 14,
   "id": "8f344cf3",
   "metadata": {
    "ExecuteTime": {
     "end_time": "2024-02-29T09:47:23.726477Z",
     "start_time": "2024-02-29T09:47:23.712998Z"
    }
   },
   "outputs": [],
   "source": [
    "# filling the features(Age,Height ,Weight )with the mean\n",
    "df['Age'].fillna(value=df['Age'].mean(),inplace=True)\n",
    "df['Height'].fillna(value=df['Height'].mean(),inplace=True)\n",
    "df['Weight'].fillna(value=df['Weight'].mean(),inplace=True)"
   ]
  },
  {
   "cell_type": "code",
   "execution_count": 15,
   "id": "72765389",
   "metadata": {
    "ExecuteTime": {
     "end_time": "2024-02-29T09:47:23.843162Z",
     "start_time": "2024-02-29T09:47:23.728688Z"
    }
   },
   "outputs": [],
   "source": [
    "# for region null values ,we will drop the rows which has null values\n",
    "df = df.dropna(axis=0, subset=['region'])"
   ]
  },
  {
   "cell_type": "code",
   "execution_count": 47,
   "id": "e9bc786e",
   "metadata": {
    "ExecuteTime": {
     "end_time": "2024-02-29T10:50:36.592741Z",
     "start_time": "2024-02-29T10:50:36.552235Z"
    }
   },
   "outputs": [
    {
     "data": {
      "text/html": [
       "<div>\n",
       "<style scoped>\n",
       "    .dataframe tbody tr th:only-of-type {\n",
       "        vertical-align: middle;\n",
       "    }\n",
       "\n",
       "    .dataframe tbody tr th {\n",
       "        vertical-align: top;\n",
       "    }\n",
       "\n",
       "    .dataframe thead th {\n",
       "        text-align: right;\n",
       "    }\n",
       "</style>\n",
       "<table border=\"1\" class=\"dataframe\">\n",
       "  <thead>\n",
       "    <tr style=\"text-align: right;\">\n",
       "      <th></th>\n",
       "      <th>ID</th>\n",
       "      <th>Name</th>\n",
       "      <th>Sex</th>\n",
       "      <th>Age</th>\n",
       "      <th>Height</th>\n",
       "      <th>Weight</th>\n",
       "      <th>Team</th>\n",
       "      <th>NOC</th>\n",
       "      <th>Games</th>\n",
       "      <th>Year</th>\n",
       "      <th>Season</th>\n",
       "      <th>City</th>\n",
       "      <th>Sport</th>\n",
       "      <th>Event</th>\n",
       "      <th>Medal</th>\n",
       "      <th>region</th>\n",
       "    </tr>\n",
       "  </thead>\n",
       "  <tbody>\n",
       "    <tr>\n",
       "      <th>0</th>\n",
       "      <td>1</td>\n",
       "      <td>A Dijiang</td>\n",
       "      <td>M</td>\n",
       "      <td>24.0</td>\n",
       "      <td>180.00000</td>\n",
       "      <td>80.000000</td>\n",
       "      <td>China</td>\n",
       "      <td>CHN</td>\n",
       "      <td>1992 Summer</td>\n",
       "      <td>1992</td>\n",
       "      <td>Summer</td>\n",
       "      <td>Barcelona</td>\n",
       "      <td>Basketball</td>\n",
       "      <td>Basketball Men's Basketball</td>\n",
       "      <td>No prize</td>\n",
       "      <td>China</td>\n",
       "    </tr>\n",
       "    <tr>\n",
       "      <th>1</th>\n",
       "      <td>2</td>\n",
       "      <td>A Lamusi</td>\n",
       "      <td>M</td>\n",
       "      <td>23.0</td>\n",
       "      <td>170.00000</td>\n",
       "      <td>60.000000</td>\n",
       "      <td>China</td>\n",
       "      <td>CHN</td>\n",
       "      <td>2012 Summer</td>\n",
       "      <td>2012</td>\n",
       "      <td>Summer</td>\n",
       "      <td>London</td>\n",
       "      <td>Judo</td>\n",
       "      <td>Judo Men's Extra-Lightweight</td>\n",
       "      <td>No prize</td>\n",
       "      <td>China</td>\n",
       "    </tr>\n",
       "    <tr>\n",
       "      <th>2</th>\n",
       "      <td>3</td>\n",
       "      <td>Gunnar Nielsen Aaby</td>\n",
       "      <td>M</td>\n",
       "      <td>24.0</td>\n",
       "      <td>175.33897</td>\n",
       "      <td>70.702393</td>\n",
       "      <td>Denmark</td>\n",
       "      <td>DEN</td>\n",
       "      <td>1920 Summer</td>\n",
       "      <td>1920</td>\n",
       "      <td>Summer</td>\n",
       "      <td>Antwerpen</td>\n",
       "      <td>Football</td>\n",
       "      <td>Football Men's Football</td>\n",
       "      <td>No prize</td>\n",
       "      <td>Denmark</td>\n",
       "    </tr>\n",
       "    <tr>\n",
       "      <th>3</th>\n",
       "      <td>4</td>\n",
       "      <td>Edgar Lindenau Aabye</td>\n",
       "      <td>M</td>\n",
       "      <td>34.0</td>\n",
       "      <td>175.33897</td>\n",
       "      <td>70.702393</td>\n",
       "      <td>Denmark/Sweden</td>\n",
       "      <td>DEN</td>\n",
       "      <td>1900 Summer</td>\n",
       "      <td>1900</td>\n",
       "      <td>Summer</td>\n",
       "      <td>Paris</td>\n",
       "      <td>Tug-Of-War</td>\n",
       "      <td>Tug-Of-War Men's Tug-Of-War</td>\n",
       "      <td>Gold</td>\n",
       "      <td>Denmark</td>\n",
       "    </tr>\n",
       "    <tr>\n",
       "      <th>4</th>\n",
       "      <td>5</td>\n",
       "      <td>Christine Jacoba Aaftink</td>\n",
       "      <td>F</td>\n",
       "      <td>21.0</td>\n",
       "      <td>185.00000</td>\n",
       "      <td>82.000000</td>\n",
       "      <td>Netherlands</td>\n",
       "      <td>NED</td>\n",
       "      <td>1988 Winter</td>\n",
       "      <td>1988</td>\n",
       "      <td>Winter</td>\n",
       "      <td>Calgary</td>\n",
       "      <td>Speed Skating</td>\n",
       "      <td>Speed Skating Women's 500 metres</td>\n",
       "      <td>No prize</td>\n",
       "      <td>Netherlands</td>\n",
       "    </tr>\n",
       "  </tbody>\n",
       "</table>\n",
       "</div>"
      ],
      "text/plain": [
       "   ID                      Name Sex   Age     Height     Weight  \\\n",
       "0   1                 A Dijiang   M  24.0  180.00000  80.000000   \n",
       "1   2                  A Lamusi   M  23.0  170.00000  60.000000   \n",
       "2   3       Gunnar Nielsen Aaby   M  24.0  175.33897  70.702393   \n",
       "3   4      Edgar Lindenau Aabye   M  34.0  175.33897  70.702393   \n",
       "4   5  Christine Jacoba Aaftink   F  21.0  185.00000  82.000000   \n",
       "\n",
       "             Team  NOC        Games  Year  Season       City          Sport  \\\n",
       "0           China  CHN  1992 Summer  1992  Summer  Barcelona     Basketball   \n",
       "1           China  CHN  2012 Summer  2012  Summer     London           Judo   \n",
       "2         Denmark  DEN  1920 Summer  1920  Summer  Antwerpen       Football   \n",
       "3  Denmark/Sweden  DEN  1900 Summer  1900  Summer      Paris     Tug-Of-War   \n",
       "4     Netherlands  NED  1988 Winter  1988  Winter    Calgary  Speed Skating   \n",
       "\n",
       "                              Event     Medal       region  \n",
       "0       Basketball Men's Basketball  No prize        China  \n",
       "1      Judo Men's Extra-Lightweight  No prize        China  \n",
       "2           Football Men's Football  No prize      Denmark  \n",
       "3       Tug-Of-War Men's Tug-Of-War      Gold      Denmark  \n",
       "4  Speed Skating Women's 500 metres  No prize  Netherlands  "
      ]
     },
     "execution_count": 47,
     "metadata": {},
     "output_type": "execute_result"
    }
   ],
   "source": [
    "# for medal null values we recognize that the winners will have either a Gold, a Silver or a Bronze . so we can fill the null values with \"No prize\"\n",
    "df['Medal'].fillna(value=\"No prize\", inplace=True )\n",
    "df.head()"
   ]
  },
  {
   "cell_type": "code",
   "execution_count": 17,
   "id": "e2f960ee",
   "metadata": {
    "ExecuteTime": {
     "end_time": "2024-02-29T09:47:24.211731Z",
     "start_time": "2024-02-29T09:47:23.865759Z"
    }
   },
   "outputs": [
    {
     "data": {
      "text/plain": [
       "ID        0\n",
       "Name      0\n",
       "Sex       0\n",
       "Age       0\n",
       "Height    0\n",
       "Weight    0\n",
       "Team      0\n",
       "NOC       0\n",
       "Games     0\n",
       "Year      0\n",
       "Season    0\n",
       "City      0\n",
       "Sport     0\n",
       "Event     0\n",
       "Medal     0\n",
       "region    0\n",
       "dtype: int64"
      ]
     },
     "execution_count": 17,
     "metadata": {},
     "output_type": "execute_result"
    }
   ],
   "source": [
    "# check for null values again\n",
    "df.isna().sum()"
   ]
  },
  {
   "cell_type": "code",
   "execution_count": 18,
   "id": "2ff20ece",
   "metadata": {
    "ExecuteTime": {
     "end_time": "2024-02-29T09:47:24.227207Z",
     "start_time": "2024-02-29T09:47:24.213427Z"
    }
   },
   "outputs": [],
   "source": [
    "#to check the numerical columns is numerical( make sure that do not have string value)\n",
    "for col in ['Age','Height','Weight']:\n",
    "    df[col]=pd.to_numeric(df[col],errors='coerce')"
   ]
  },
  {
   "cell_type": "code",
   "execution_count": 19,
   "id": "d9dc05eb",
   "metadata": {
    "ExecuteTime": {
     "end_time": "2024-02-29T09:47:24.558374Z",
     "start_time": "2024-02-29T09:47:24.228117Z"
    }
   },
   "outputs": [
    {
     "data": {
      "text/plain": [
       "1385"
      ]
     },
     "execution_count": 19,
     "metadata": {},
     "output_type": "execute_result"
    }
   ],
   "source": [
    "# Now let us check if our dataset has any duplicate values\n",
    "df.duplicated().sum()"
   ]
  },
  {
   "cell_type": "code",
   "execution_count": 20,
   "id": "0895107f",
   "metadata": {
    "ExecuteTime": {
     "end_time": "2024-02-29T09:47:25.008139Z",
     "start_time": "2024-02-29T09:47:24.560523Z"
    }
   },
   "outputs": [],
   "source": [
    "df.drop_duplicates(keep='first',inplace=True)"
   ]
  },
  {
   "cell_type": "code",
   "execution_count": 21,
   "id": "3213836d",
   "metadata": {
    "ExecuteTime": {
     "end_time": "2024-02-29T09:47:25.025080Z",
     "start_time": "2024-02-29T09:47:25.010074Z"
    }
   },
   "outputs": [
    {
     "data": {
      "text/html": [
       "<div>\n",
       "<style scoped>\n",
       "    .dataframe tbody tr th:only-of-type {\n",
       "        vertical-align: middle;\n",
       "    }\n",
       "\n",
       "    .dataframe tbody tr th {\n",
       "        vertical-align: top;\n",
       "    }\n",
       "\n",
       "    .dataframe thead th {\n",
       "        text-align: right;\n",
       "    }\n",
       "</style>\n",
       "<table border=\"1\" class=\"dataframe\">\n",
       "  <thead>\n",
       "    <tr style=\"text-align: right;\">\n",
       "      <th></th>\n",
       "      <th>ID</th>\n",
       "      <th>Name</th>\n",
       "      <th>Sex</th>\n",
       "      <th>Age</th>\n",
       "      <th>Height</th>\n",
       "      <th>Weight</th>\n",
       "      <th>Team</th>\n",
       "      <th>NOC</th>\n",
       "      <th>Games</th>\n",
       "      <th>Year</th>\n",
       "      <th>Season</th>\n",
       "      <th>City</th>\n",
       "      <th>Sport</th>\n",
       "      <th>Event</th>\n",
       "      <th>Medal</th>\n",
       "      <th>region</th>\n",
       "    </tr>\n",
       "  </thead>\n",
       "  <tbody>\n",
       "    <tr>\n",
       "      <th>0</th>\n",
       "      <td>1</td>\n",
       "      <td>A Dijiang</td>\n",
       "      <td>M</td>\n",
       "      <td>24.0</td>\n",
       "      <td>180.00000</td>\n",
       "      <td>80.000000</td>\n",
       "      <td>China</td>\n",
       "      <td>CHN</td>\n",
       "      <td>1992 Summer</td>\n",
       "      <td>1992</td>\n",
       "      <td>Summer</td>\n",
       "      <td>Barcelona</td>\n",
       "      <td>Basketball</td>\n",
       "      <td>Basketball Men's Basketball</td>\n",
       "      <td>No prize</td>\n",
       "      <td>China</td>\n",
       "    </tr>\n",
       "    <tr>\n",
       "      <th>1</th>\n",
       "      <td>2</td>\n",
       "      <td>A Lamusi</td>\n",
       "      <td>M</td>\n",
       "      <td>23.0</td>\n",
       "      <td>170.00000</td>\n",
       "      <td>60.000000</td>\n",
       "      <td>China</td>\n",
       "      <td>CHN</td>\n",
       "      <td>2012 Summer</td>\n",
       "      <td>2012</td>\n",
       "      <td>Summer</td>\n",
       "      <td>London</td>\n",
       "      <td>Judo</td>\n",
       "      <td>Judo Men's Extra-Lightweight</td>\n",
       "      <td>No prize</td>\n",
       "      <td>China</td>\n",
       "    </tr>\n",
       "    <tr>\n",
       "      <th>2</th>\n",
       "      <td>3</td>\n",
       "      <td>Gunnar Nielsen Aaby</td>\n",
       "      <td>M</td>\n",
       "      <td>24.0</td>\n",
       "      <td>175.33897</td>\n",
       "      <td>70.702393</td>\n",
       "      <td>Denmark</td>\n",
       "      <td>DEN</td>\n",
       "      <td>1920 Summer</td>\n",
       "      <td>1920</td>\n",
       "      <td>Summer</td>\n",
       "      <td>Antwerpen</td>\n",
       "      <td>Football</td>\n",
       "      <td>Football Men's Football</td>\n",
       "      <td>No prize</td>\n",
       "      <td>Denmark</td>\n",
       "    </tr>\n",
       "    <tr>\n",
       "      <th>3</th>\n",
       "      <td>4</td>\n",
       "      <td>Edgar Lindenau Aabye</td>\n",
       "      <td>M</td>\n",
       "      <td>34.0</td>\n",
       "      <td>175.33897</td>\n",
       "      <td>70.702393</td>\n",
       "      <td>Denmark/Sweden</td>\n",
       "      <td>DEN</td>\n",
       "      <td>1900 Summer</td>\n",
       "      <td>1900</td>\n",
       "      <td>Summer</td>\n",
       "      <td>Paris</td>\n",
       "      <td>Tug-Of-War</td>\n",
       "      <td>Tug-Of-War Men's Tug-Of-War</td>\n",
       "      <td>Gold</td>\n",
       "      <td>Denmark</td>\n",
       "    </tr>\n",
       "    <tr>\n",
       "      <th>4</th>\n",
       "      <td>5</td>\n",
       "      <td>Christine Jacoba Aaftink</td>\n",
       "      <td>F</td>\n",
       "      <td>21.0</td>\n",
       "      <td>185.00000</td>\n",
       "      <td>82.000000</td>\n",
       "      <td>Netherlands</td>\n",
       "      <td>NED</td>\n",
       "      <td>1988 Winter</td>\n",
       "      <td>1988</td>\n",
       "      <td>Winter</td>\n",
       "      <td>Calgary</td>\n",
       "      <td>Speed Skating</td>\n",
       "      <td>Speed Skating Women's 500 metres</td>\n",
       "      <td>No prize</td>\n",
       "      <td>Netherlands</td>\n",
       "    </tr>\n",
       "  </tbody>\n",
       "</table>\n",
       "</div>"
      ],
      "text/plain": [
       "   ID                      Name Sex   Age     Height     Weight  \\\n",
       "0   1                 A Dijiang   M  24.0  180.00000  80.000000   \n",
       "1   2                  A Lamusi   M  23.0  170.00000  60.000000   \n",
       "2   3       Gunnar Nielsen Aaby   M  24.0  175.33897  70.702393   \n",
       "3   4      Edgar Lindenau Aabye   M  34.0  175.33897  70.702393   \n",
       "4   5  Christine Jacoba Aaftink   F  21.0  185.00000  82.000000   \n",
       "\n",
       "             Team  NOC        Games  Year  Season       City          Sport  \\\n",
       "0           China  CHN  1992 Summer  1992  Summer  Barcelona     Basketball   \n",
       "1           China  CHN  2012 Summer  2012  Summer     London           Judo   \n",
       "2         Denmark  DEN  1920 Summer  1920  Summer  Antwerpen       Football   \n",
       "3  Denmark/Sweden  DEN  1900 Summer  1900  Summer      Paris     Tug-Of-War   \n",
       "4     Netherlands  NED  1988 Winter  1988  Winter    Calgary  Speed Skating   \n",
       "\n",
       "                              Event     Medal       region  \n",
       "0       Basketball Men's Basketball  No prize        China  \n",
       "1      Judo Men's Extra-Lightweight  No prize        China  \n",
       "2           Football Men's Football  No prize      Denmark  \n",
       "3       Tug-Of-War Men's Tug-Of-War      Gold      Denmark  \n",
       "4  Speed Skating Women's 500 metres  No prize  Netherlands  "
      ]
     },
     "execution_count": 21,
     "metadata": {},
     "output_type": "execute_result"
    }
   ],
   "source": [
    "df.head()"
   ]
  },
  {
   "cell_type": "markdown",
   "id": "a2c5377e",
   "metadata": {},
   "source": [
    "# EDA and Visualization"
   ]
  },
  {
   "cell_type": "code",
   "execution_count": 22,
   "id": "61117f21",
   "metadata": {
    "ExecuteTime": {
     "end_time": "2024-02-29T09:47:25.141323Z",
     "start_time": "2024-02-29T09:47:25.027802Z"
    }
   },
   "outputs": [
    {
     "data": {
      "text/plain": [
       "United States    14277\n",
       "Great Britain    10169\n",
       "France            9850\n",
       "Italy             8004\n",
       "Germany           7282\n",
       "Australia         6975\n",
       "Canada            6636\n",
       "Japan             6213\n",
       "Hungary           6034\n",
       "Sweden            5773\n",
       "Name: Team, dtype: int64"
      ]
     },
     "execution_count": 22,
     "metadata": {},
     "output_type": "execute_result"
    }
   ],
   "source": [
    "# Top 10 participating countries to the Olympics? in both summer and winter!\n",
    "summer = df[df['Season']=='Summer'][['Team','Season']]\n",
    "Top_10_summer= summer['Team'].value_counts().sort_values(ascending=False).head(10)\n",
    "Top_10_summer\n"
   ]
  },
  {
   "cell_type": "code",
   "execution_count": 23,
   "id": "870efb17",
   "metadata": {
    "ExecuteTime": {
     "end_time": "2024-02-29T09:47:28.341092Z",
     "start_time": "2024-02-29T09:47:25.143116Z"
    },
    "scrolled": true
   },
   "outputs": [
    {
     "data": {
      "text/plain": [
       "<AxesSubplot:title={'center':'top ten participating countries in summer'}, xlabel='countries', ylabel='Team'>"
      ]
     },
     "execution_count": 23,
     "metadata": {},
     "output_type": "execute_result"
    },
    {
     "data": {
      "image/png": "[encoded data removed]",
      "text/plain": [
       "<Figure size 1440x720 with 1 Axes>"
      ]
     },
     "metadata": {
      "needs_background": "light"
     },
     "output_type": "display_data"
    }
   ],
   "source": [
    "plt.figure(figsize=(20,10))\n",
    "plt.title(\"top ten participating countries in summer\")\n",
    "plt.xlabel(\"countries\")\n",
    "plt.ylabel(\"no of participants\")\n",
    "sns.barplot(x=Top_10_summer.index, y= Top_10_summer ,palette='Set2')"
   ]
  },
  {
   "cell_type": "code",
   "execution_count": 24,
   "id": "f2ce649f",
   "metadata": {
    "ExecuteTime": {
     "end_time": "2024-02-29T09:47:28.391236Z",
     "start_time": "2024-02-29T09:47:28.342101Z"
    }
   },
   "outputs": [
    {
     "data": {
      "text/plain": [
       "United States    3321\n",
       "Canada           2590\n",
       "Norway           2328\n",
       "Sweden           2231\n",
       "Italy            2209\n",
       "Japan            2056\n",
       "France           1967\n",
       "Austria          1954\n",
       "Germany          1948\n",
       "Switzerland      1911\n",
       "Name: Team, dtype: int64"
      ]
     },
     "execution_count": 24,
     "metadata": {},
     "output_type": "execute_result"
    }
   ],
   "source": [
    "winter = df[df['Season']=='Winter'][['Team','Season']]\n",
    "Top_10_winter= winter['Team'].value_counts().sort_values(ascending=False).head(10)\n",
    "Top_10_winter"
   ]
  },
  {
   "cell_type": "code",
   "execution_count": 25,
   "id": "9cae4ca0",
   "metadata": {
    "ExecuteTime": {
     "end_time": "2024-02-29T09:47:28.572248Z",
     "start_time": "2024-02-29T09:47:28.393143Z"
    }
   },
   "outputs": [
    {
     "data": {
      "text/plain": [
       "<AxesSubplot:title={'center':'top ten participating countries in winter'}, xlabel='countries', ylabel='Team'>"
      ]
     },
     "execution_count": 25,
     "metadata": {},
     "output_type": "execute_result"
    },
    {
     "data": {
      "image/png": "[encoded data removed]",
      "text/plain": [
       "<Figure size 1440x720 with 1 Axes>"
      ]
     },
     "metadata": {
      "needs_background": "light"
     },
     "output_type": "display_data"
    }
   ],
   "source": [
    "plt.figure(figsize=(20,10))\n",
    "plt.title(\"top ten participating countries in winter\")\n",
    "plt.xlabel(\"countries\")\n",
    "plt.ylabel(\"no of participants\")\n",
    "sns.barplot(x=Top_10_winter.index, y= Top_10_winter ,palette='Set2')"
   ]
  },
  {
   "cell_type": "code",
   "execution_count": 26,
   "id": "9193ed15",
   "metadata": {
    "ExecuteTime": {
     "end_time": "2024-02-29T09:47:28.624349Z",
     "start_time": "2024-02-29T09:47:28.573247Z"
    }
   },
   "outputs": [
    {
     "data": {
      "text/plain": [
       "United States    2474\n",
       "Soviet Union     1058\n",
       "Germany           679\n",
       "Italy             535\n",
       "Great Britain     519\n",
       "France            455\n",
       "Sweden            451\n",
       "Hungary           432\n",
       "Canada            422\n",
       "East Germany      369\n",
       "Name: Team, dtype: int64"
      ]
     },
     "execution_count": 26,
     "metadata": {},
     "output_type": "execute_result"
    }
   ],
   "source": [
    "# Top 10 participating countries win gold medal\n",
    "Top_Gold=df[['Team','Medal']].copy()\n",
    "Top_Gold=Top_Gold[Top_Gold['Medal']=='Gold']\n",
    "Top_Gold=Top_Gold['Team'].value_counts().sort_values(ascending=False).head(10)\n",
    "Top_Gold"
   ]
  },
  {
   "cell_type": "code",
   "execution_count": 27,
   "id": "bfb10ec7",
   "metadata": {
    "ExecuteTime": {
     "end_time": "2024-02-29T09:47:28.823125Z",
     "start_time": "2024-02-29T09:47:28.627322Z"
    }
   },
   "outputs": [
    {
     "data": {
      "text/plain": [
       "<AxesSubplot:title={'center':'Top 10 countries win gold medal'}, xlabel='countries', ylabel='Team'>"
      ]
     },
     "execution_count": 27,
     "metadata": {},
     "output_type": "execute_result"
    },
    {
     "data": {
      "image/png": "[encoded data removed]",
      "text/plain": [
       "<Figure size 1440x720 with 1 Axes>"
      ]
     },
     "metadata": {
      "needs_background": "light"
     },
     "output_type": "display_data"
    }
   ],
   "source": [
    "plt.figure(figsize=(20,10.))\n",
    "plt.title(\"Top 10 countries win gold medal\")\n",
    "plt.xlabel(\"countries\")\n",
    "plt.ylabel(\"number of gold medal\")\n",
    "sns.barplot(x=Top_Gold.index ,y=Top_Gold,palette=\"Set2\")"
   ]
  },
  {
   "cell_type": "code",
   "execution_count": 28,
   "id": "cb799099",
   "metadata": {
    "ExecuteTime": {
     "end_time": "2024-02-29T09:47:28.876140Z",
     "start_time": "2024-02-29T09:47:28.826088Z"
    }
   },
   "outputs": [
    {
     "data": {
      "text/plain": [
       "Michael Fred Phelps, II           23\n",
       "Raymond Clarence \"Ray\" Ewry       10\n",
       "Mark Andrew Spitz                  9\n",
       "Frederick Carlton \"Carl\" Lewis     9\n",
       "Matthew Nicholas \"Matt\" Biondi     8\n",
       "                                  ..\n",
       "Anfernee Deon \"Penny\" Hardaway     1\n",
       "Louis Joseph Harant                1\n",
       "Kevin Christopher Hansen           1\n",
       "Joseph \"Joey\" Hansen               1\n",
       "Zachary \"Zac\" Zorn                 1\n",
       "Name: Name, Length: 1781, dtype: int64"
      ]
     },
     "execution_count": 28,
     "metadata": {},
     "output_type": "execute_result"
    }
   ],
   "source": [
    "# How many times has each player in United States won the gold medal \n",
    "df[(df['Team']=='United States')&(df['Medal']=='Gold')]['Name'].value_counts()"
   ]
  },
  {
   "cell_type": "code",
   "execution_count": 29,
   "id": "11c7b41a",
   "metadata": {
    "ExecuteTime": {
     "end_time": "2024-02-29T09:47:29.108394Z",
     "start_time": "2024-02-29T09:47:28.880037Z"
    }
   },
   "outputs": [
    {
     "data": {
      "text/plain": [
       "(array([1.4000e+01, 2.2000e+02, 3.0250e+03, 9.1860e+03, 1.9746e+04,\n",
       "        3.4361e+04, 4.2618e+04, 5.0651e+04, 3.3639e+04, 2.5433e+04,\n",
       "        1.7013e+04, 1.0996e+04, 7.0630e+03, 4.4050e+03, 2.9450e+03,\n",
       "        2.1070e+03, 1.5750e+03, 1.1910e+03, 7.8100e+02, 6.8600e+02,\n",
       "        4.1400e+02, 3.7200e+02, 2.2300e+02, 1.7300e+02, 1.3000e+02,\n",
       "        1.1500e+02, 8.1000e+01, 5.4000e+01, 4.4000e+01, 2.8000e+01,\n",
       "        3.1000e+01, 2.2000e+01, 7.0000e+00, 5.0000e+00]),\n",
       " array([10, 12, 14, 16, 18, 20, 22, 24, 26, 28, 30, 32, 34, 36, 38, 40, 42,\n",
       "        44, 46, 48, 50, 52, 54, 56, 58, 60, 62, 64, 66, 68, 70, 72, 74, 76,\n",
       "        78]),\n",
       " <BarContainer object of 34 artists>)"
      ]
     },
     "execution_count": 29,
     "metadata": {},
     "output_type": "execute_result"
    },
    {
     "data": {
      "image/png": "[encoded data removed]",
      "text/plain": [
       "<Figure size 720x360 with 1 Axes>"
      ]
     },
     "metadata": {
      "needs_background": "light"
     },
     "output_type": "display_data"
    }
   ],
   "source": [
    "# what is Most age group participate\n",
    "plt.figure(figsize=(10,5))\n",
    "plt.xlabel('Age')\n",
    "plt.ylabel('no. of participants')\n",
    "plt.title('distribution of ages')\n",
    "plt.hist(df['Age'],bins=np.arange(10,80,2),edgecolor='Black')"
   ]
  },
  {
   "cell_type": "code",
   "execution_count": 30,
   "id": "22c8fa6b",
   "metadata": {
    "ExecuteTime": {
     "end_time": "2024-02-29T09:47:29.123344Z",
     "start_time": "2024-02-29T09:47:29.110388Z"
    }
   },
   "outputs": [],
   "source": [
    "# what kind of sports in both summer and winter \n"
   ]
  },
  {
   "cell_type": "code",
   "execution_count": 31,
   "id": "1f1ce371",
   "metadata": {
    "ExecuteTime": {
     "end_time": "2024-02-29T09:47:29.175860Z",
     "start_time": "2024-02-29T09:47:29.125175Z"
    }
   },
   "outputs": [
    {
     "data": {
      "text/plain": [
       "array(['Speed Skating', 'Cross Country Skiing', 'Ice Hockey', 'Biathlon',\n",
       "       'Alpine Skiing', 'Luge', 'Bobsleigh', 'Figure Skating',\n",
       "       'Nordic Combined', 'Freestyle Skiing', 'Ski Jumping', 'Curling',\n",
       "       'Snowboarding', 'Short Track Speed Skating', 'Skeleton',\n",
       "       'Military Ski Patrol', 'Alpinism'], dtype=object)"
      ]
     },
     "execution_count": 31,
     "metadata": {},
     "output_type": "execute_result"
    }
   ],
   "source": [
    "df[df['Season']=='Winter']['Sport'].unique()"
   ]
  },
  {
   "cell_type": "code",
   "execution_count": 32,
   "id": "5d629bf2",
   "metadata": {
    "ExecuteTime": {
     "end_time": "2024-02-29T09:47:29.272844Z",
     "start_time": "2024-02-29T09:47:29.177768Z"
    }
   },
   "outputs": [
    {
     "data": {
      "text/plain": [
       "array(['Basketball', 'Judo', 'Football', 'Tug-Of-War', 'Athletics',\n",
       "       'Swimming', 'Badminton', 'Sailing', 'Gymnastics',\n",
       "       'Art Competitions', 'Handball', 'Weightlifting', 'Wrestling',\n",
       "       'Water Polo', 'Hockey', 'Rowing', 'Fencing', 'Equestrianism',\n",
       "       'Shooting', 'Boxing', 'Taekwondo', 'Cycling', 'Diving', 'Canoeing',\n",
       "       'Tennis', 'Modern Pentathlon', 'Golf', 'Softball', 'Archery',\n",
       "       'Volleyball', 'Synchronized Swimming', 'Table Tennis', 'Baseball',\n",
       "       'Rhythmic Gymnastics', 'Rugby Sevens', 'Trampolining',\n",
       "       'Beach Volleyball', 'Triathlon', 'Rugby', 'Lacrosse', 'Polo',\n",
       "       'Cricket', 'Ice Hockey', 'Racquets', 'Motorboating', 'Croquet',\n",
       "       'Figure Skating', 'Jeu De Paume', 'Roque', 'Basque Pelota',\n",
       "       'Alpinism', 'Aeronautics'], dtype=object)"
      ]
     },
     "execution_count": 32,
     "metadata": {},
     "output_type": "execute_result"
    }
   ],
   "source": [
    "df[df['Season']=='Summer']['Sport'].unique()"
   ]
  },
  {
   "cell_type": "code",
   "execution_count": 37,
   "id": "245f53f9",
   "metadata": {
    "ExecuteTime": {
     "end_time": "2024-02-29T09:48:03.423699Z",
     "start_time": "2024-02-29T09:48:03.397854Z"
    }
   },
   "outputs": [
    {
     "data": {
      "text/plain": [
       "M    195119\n",
       "F     74242\n",
       "Name: Sex, dtype: int64"
      ]
     },
     "execution_count": 37,
     "metadata": {},
     "output_type": "execute_result"
    }
   ],
   "source": [
    "# Which gender is more involved\n",
    "gender_counts=df['Sex'].value_counts()\n",
    "gender_counts"
   ]
  },
  {
   "cell_type": "code",
   "execution_count": 40,
   "id": "00065387",
   "metadata": {
    "ExecuteTime": {
     "end_time": "2024-02-29T09:49:04.345663Z",
     "start_time": "2024-02-29T09:49:04.247796Z"
    }
   },
   "outputs": [
    {
     "data": {
      "text/plain": [
       "<AxesSubplot:title={'center':'gender_counts'}, xlabel='type', ylabel='Sex'>"
      ]
     },
     "execution_count": 40,
     "metadata": {},
     "output_type": "execute_result"
    },
    {
     "data": {
      "image/png": "[encoded data removed]",
      "text/plain": [
       "<Figure size 720x360 with 1 Axes>"
      ]
     },
     "metadata": {
      "needs_background": "light"
     },
     "output_type": "display_data"
    }
   ],
   "source": [
    "plt.figure(figsize=(10,5))\n",
    "plt.xlabel('type')\n",
    "plt.title('gender_counts')\n",
    "sns.barplot(x=gender_counts.index,y=gender_counts,palette='Set2')\n"
   ]
  },
  {
   "cell_type": "code",
   "execution_count": 41,
   "id": "038c4d65",
   "metadata": {
    "ExecuteTime": {
     "end_time": "2024-02-29T09:49:07.316990Z",
     "start_time": "2024-02-29T09:49:07.239391Z"
    }
   },
   "outputs": [
    {
     "data": {
      "text/html": [
       "<div>\n",
       "<style scoped>\n",
       "    .dataframe tbody tr th:only-of-type {\n",
       "        vertical-align: middle;\n",
       "    }\n",
       "\n",
       "    .dataframe tbody tr th {\n",
       "        vertical-align: top;\n",
       "    }\n",
       "\n",
       "    .dataframe thead th {\n",
       "        text-align: right;\n",
       "    }\n",
       "</style>\n",
       "<table border=\"1\" class=\"dataframe\">\n",
       "  <thead>\n",
       "    <tr style=\"text-align: right;\">\n",
       "      <th></th>\n",
       "      <th>Year</th>\n",
       "      <th>Sex</th>\n",
       "    </tr>\n",
       "  </thead>\n",
       "  <tbody>\n",
       "    <tr>\n",
       "      <th>0</th>\n",
       "      <td>1900</td>\n",
       "      <td>33</td>\n",
       "    </tr>\n",
       "    <tr>\n",
       "      <th>1</th>\n",
       "      <td>1904</td>\n",
       "      <td>16</td>\n",
       "    </tr>\n",
       "    <tr>\n",
       "      <th>2</th>\n",
       "      <td>1906</td>\n",
       "      <td>11</td>\n",
       "    </tr>\n",
       "    <tr>\n",
       "      <th>3</th>\n",
       "      <td>1908</td>\n",
       "      <td>47</td>\n",
       "    </tr>\n",
       "    <tr>\n",
       "      <th>4</th>\n",
       "      <td>1912</td>\n",
       "      <td>87</td>\n",
       "    </tr>\n",
       "    <tr>\n",
       "      <th>5</th>\n",
       "      <td>1920</td>\n",
       "      <td>134</td>\n",
       "    </tr>\n",
       "    <tr>\n",
       "      <th>6</th>\n",
       "      <td>1924</td>\n",
       "      <td>251</td>\n",
       "    </tr>\n",
       "    <tr>\n",
       "      <th>7</th>\n",
       "      <td>1928</td>\n",
       "      <td>424</td>\n",
       "    </tr>\n",
       "    <tr>\n",
       "      <th>8</th>\n",
       "      <td>1932</td>\n",
       "      <td>287</td>\n",
       "    </tr>\n",
       "    <tr>\n",
       "      <th>9</th>\n",
       "      <td>1936</td>\n",
       "      <td>528</td>\n",
       "    </tr>\n",
       "  </tbody>\n",
       "</table>\n",
       "</div>"
      ],
      "text/plain": [
       "   Year  Sex\n",
       "0  1900   33\n",
       "1  1904   16\n",
       "2  1906   11\n",
       "3  1908   47\n",
       "4  1912   87\n",
       "5  1920  134\n",
       "6  1924  251\n",
       "7  1928  424\n",
       "8  1932  287\n",
       "9  1936  528"
      ]
     },
     "execution_count": 41,
     "metadata": {},
     "output_type": "execute_result"
    }
   ],
   "source": [
    "# Total number of female athletes in each olympics\n",
    "Female_participants = df[df[\"Sex\"]==\"F\"][['Sex','Year']]\n",
    "Female_participants=Female_participants.groupby('Year').count().reset_index()\n",
    "Female_participants.head(10)"
   ]
  },
  {
   "cell_type": "code",
   "execution_count": 42,
   "id": "9d9c87c2",
   "metadata": {
    "ExecuteTime": {
     "end_time": "2024-02-29T09:49:10.453401Z",
     "start_time": "2024-02-29T09:49:10.444162Z"
    }
   },
   "outputs": [
    {
     "data": {
      "text/html": [
       "<div>\n",
       "<style scoped>\n",
       "    .dataframe tbody tr th:only-of-type {\n",
       "        vertical-align: middle;\n",
       "    }\n",
       "\n",
       "    .dataframe tbody tr th {\n",
       "        vertical-align: top;\n",
       "    }\n",
       "\n",
       "    .dataframe thead th {\n",
       "        text-align: right;\n",
       "    }\n",
       "</style>\n",
       "<table border=\"1\" class=\"dataframe\">\n",
       "  <thead>\n",
       "    <tr style=\"text-align: right;\">\n",
       "      <th></th>\n",
       "      <th>Sex</th>\n",
       "    </tr>\n",
       "    <tr>\n",
       "      <th>Year</th>\n",
       "      <th></th>\n",
       "    </tr>\n",
       "  </thead>\n",
       "  <tbody>\n",
       "    <tr>\n",
       "      <th>1900</th>\n",
       "      <td>33</td>\n",
       "    </tr>\n",
       "    <tr>\n",
       "      <th>1904</th>\n",
       "      <td>16</td>\n",
       "    </tr>\n",
       "    <tr>\n",
       "      <th>1906</th>\n",
       "      <td>11</td>\n",
       "    </tr>\n",
       "    <tr>\n",
       "      <th>1908</th>\n",
       "      <td>47</td>\n",
       "    </tr>\n",
       "    <tr>\n",
       "      <th>1912</th>\n",
       "      <td>87</td>\n",
       "    </tr>\n",
       "    <tr>\n",
       "      <th>1920</th>\n",
       "      <td>134</td>\n",
       "    </tr>\n",
       "    <tr>\n",
       "      <th>1924</th>\n",
       "      <td>251</td>\n",
       "    </tr>\n",
       "    <tr>\n",
       "      <th>1928</th>\n",
       "      <td>424</td>\n",
       "    </tr>\n",
       "    <tr>\n",
       "      <th>1932</th>\n",
       "      <td>287</td>\n",
       "    </tr>\n",
       "    <tr>\n",
       "      <th>1936</th>\n",
       "      <td>528</td>\n",
       "    </tr>\n",
       "  </tbody>\n",
       "</table>\n",
       "</div>"
      ],
      "text/plain": [
       "      Sex\n",
       "Year     \n",
       "1900   33\n",
       "1904   16\n",
       "1906   11\n",
       "1908   47\n",
       "1912   87\n",
       "1920  134\n",
       "1924  251\n",
       "1928  424\n",
       "1932  287\n",
       "1936  528"
      ]
     },
     "execution_count": 42,
     "metadata": {},
     "output_type": "execute_result"
    }
   ],
   "source": [
    "Female_participants.set_index('Year' , inplace=True)\n",
    "Female_participants.head(10)"
   ]
  },
  {
   "cell_type": "code",
   "execution_count": 43,
   "id": "b9bd10e1",
   "metadata": {
    "ExecuteTime": {
     "end_time": "2024-02-29T09:49:17.622735Z",
     "start_time": "2024-02-29T09:49:16.689331Z"
    }
   },
   "outputs": [
    {
     "data": {
      "image/png": "[encoded data removed]",
      "text/plain": [
       "<Figure size 1440x720 with 1 Axes>"
      ]
     },
     "metadata": {
      "needs_background": "light"
     },
     "output_type": "display_data"
    }
   ],
   "source": [
    "plt.figure(figsize=(20, 10))\n",
    "plt.plot(Female_participants.index, Female_participants['Sex'], color='green', linewidth=2, linestyle='--')\n",
    "plt.xlabel('Year')\n",
    "plt.ylabel('Number of Female Participants')\n",
    "plt.title('Number of Female Participants Over the Years')\n",
    "plt.grid(True)  # Adding grid lines for better readability\n",
    "plt.show()"
   ]
  },
  {
   "cell_type": "code",
   "execution_count": 44,
   "id": "7148fd06",
   "metadata": {
    "ExecuteTime": {
     "end_time": "2024-02-29T10:07:50.041485Z",
     "start_time": "2024-02-29T10:07:50.000728Z"
    }
   },
   "outputs": [
    {
     "data": {
      "text/plain": [
       "False    269355\n",
       "True          6\n",
       "dtype: int64"
      ]
     },
     "execution_count": 44,
     "metadata": {},
     "output_type": "execute_result"
    }
   ],
   "source": [
    "# How many participants over the age of 60 got the gold medal\n",
    "((df['Medal']=='Gold')&(df['Age']>60)).value_counts()"
   ]
  },
  {
   "cell_type": "code",
   "execution_count": 62,
   "id": "09385bb9",
   "metadata": {
    "ExecuteTime": {
     "end_time": "2024-02-29T11:52:02.061155Z",
     "start_time": "2024-02-29T11:52:02.020801Z"
    }
   },
   "outputs": [
    {
     "data": {
      "text/html": [
       "<div>\n",
       "<style scoped>\n",
       "    .dataframe tbody tr th:only-of-type {\n",
       "        vertical-align: middle;\n",
       "    }\n",
       "\n",
       "    .dataframe tbody tr th {\n",
       "        vertical-align: top;\n",
       "    }\n",
       "\n",
       "    .dataframe thead th {\n",
       "        text-align: right;\n",
       "    }\n",
       "</style>\n",
       "<table border=\"1\" class=\"dataframe\">\n",
       "  <thead>\n",
       "    <tr style=\"text-align: right;\">\n",
       "      <th></th>\n",
       "      <th>index</th>\n",
       "      <th>medal</th>\n",
       "    </tr>\n",
       "  </thead>\n",
       "  <tbody>\n",
       "    <tr>\n",
       "      <th>0</th>\n",
       "      <td>USA</td>\n",
       "      <td>5637</td>\n",
       "    </tr>\n",
       "    <tr>\n",
       "      <th>1</th>\n",
       "      <td>Russia</td>\n",
       "      <td>3947</td>\n",
       "    </tr>\n",
       "    <tr>\n",
       "      <th>2</th>\n",
       "      <td>Germany</td>\n",
       "      <td>3756</td>\n",
       "    </tr>\n",
       "    <tr>\n",
       "      <th>3</th>\n",
       "      <td>UK</td>\n",
       "      <td>2067</td>\n",
       "    </tr>\n",
       "    <tr>\n",
       "      <th>4</th>\n",
       "      <td>France</td>\n",
       "      <td>1767</td>\n",
       "    </tr>\n",
       "  </tbody>\n",
       "</table>\n",
       "</div>"
      ],
      "text/plain": [
       "     index  medal\n",
       "0      USA   5637\n",
       "1   Russia   3947\n",
       "2  Germany   3756\n",
       "3       UK   2067\n",
       "4   France   1767"
      ]
     },
     "execution_count": 62,
     "metadata": {},
     "output_type": "execute_result"
    }
   ],
   "source": [
    "# Top 5 countries with medals\n",
    "total_medal = df[df['Medal'] != 'No prize']['region'].value_counts().reset_index(name='medal').head(5)\n",
    "total_medal\n"
   ]
  },
  {
   "cell_type": "code",
   "execution_count": 68,
   "id": "45103d27",
   "metadata": {
    "ExecuteTime": {
     "end_time": "2024-02-29T11:53:19.125460Z",
     "start_time": "2024-02-29T11:53:18.994375Z"
    }
   },
   "outputs": [
    {
     "data": {
      "text/plain": [
       "<seaborn.axisgrid.FacetGrid at 0x2460e316b80>"
      ]
     },
     "execution_count": 68,
     "metadata": {},
     "output_type": "execute_result"
    },
    {
     "data": {
      "image/png": "[encoded data removed]",
      "text/plain": [
       "<Figure size 360x360 with 1 Axes>"
      ]
     },
     "metadata": {
      "needs_background": "light"
     },
     "output_type": "display_data"
    }
   ],
   "source": [
    "sns.catplot(x='index',y='medal',data=total_medal,palette='Spectral',kind='bar')"
   ]
  }
 ],
 "metadata": {
  "kernelspec": {
   "display_name": "Python 3 (ipykernel)",
   "language": "python",
   "name": "python3"
  },
  "language_info": {
   "codemirror_mode": {
    "name": "ipython",
    "version": 3
   },
   "file_extension": ".py",
   "mimetype": "text/x-python",
   "name": "python",
   "nbconvert_exporter": "python",
   "pygments_lexer": "ipython3",
   "version": "3.9.12"
  }
 },
 "nbformat": 4,
 "nbformat_minor": 5
}
